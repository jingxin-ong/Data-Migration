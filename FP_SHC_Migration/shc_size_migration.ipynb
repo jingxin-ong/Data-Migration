{
 "cells": [
  {
   "cell_type": "code",
   "execution_count": null,
   "metadata": {},
   "outputs": [],
   "source": [
    "import boto3\n",
    "import pandas as pd\n",
    "import io\n",
    "import os\n",
    "import time\n",
    "\n",
    "from botocore.credentials import RefreshableCredentials\n",
    "from botocore.session import get_session"
   ]
  },
  {
   "cell_type": "markdown",
   "metadata": {},
   "source": [
    "### Connect to S3"
   ]
  },
  {
   "cell_type": "code",
   "execution_count": null,
   "metadata": {},
   "outputs": [],
   "source": [
    "def aws_session(aws_profile='sg_stage'):\n",
    "    \"\"\"Create a a boto3 session.\n",
    "    Params:\n",
    "        (string): credentials profile name\n",
    "    Returns:\n",
    "        (boto3 client object)\n",
    "    \"\"\"\n",
    "    session = boto3.Session()\n",
    "    # If the session is run on a local machine, with AWS credentials fetched\n",
    "    # from a shared file, use the DataScience role profile.\n",
    "    if session.get_credentials().method == 'shared-credentials-file':\n",
    "        session = boto3.Session(profile_name=aws_profile)\n",
    "    creds = session.get_credentials()\n",
    "    result = {\n",
    "        'access_key': creds.access_key,\n",
    "        'secret_key': creds.secret_key,\n",
    "        'token': creds.token,\n",
    "        'expiry_time': creds._expiry_time.isoformat()\n",
    "    }\n",
    "    return result\n",
    "\n",
    "CREDS = RefreshableCredentials.create_from_metadata(\n",
    "    metadata=aws_session(),\n",
    "    refresh_using=aws_session,\n",
    "    method=\"sts-assume-role\",\n",
    ")\n",
    "\n",
    "SESSION = get_session()\n",
    "SESSION._credentials = CREDS\n",
    "SESSION.set_config_variable(\"region\", 'ap-southeast-1')\n",
    "AUTO_SESSION = boto3.Session(botocore_session=SESSION)"
   ]
  },
  {
   "cell_type": "code",
   "execution_count": null,
   "metadata": {},
   "outputs": [],
   "source": [
    "def s3_client():\n",
    "    \"\"\"Cache a boto3 client with credentias and MFA token.\"\"\"\n",
    "    return AUTO_SESSION.client('s3')"
   ]
  },
  {
   "cell_type": "markdown",
   "metadata": {},
   "source": [
    "### Generate size of SCD Bucket\n",
    "get_size function can also be used to obtain sizes of individual folders in bucket"
   ]
  },
  {
   "cell_type": "code",
   "execution_count": null,
   "metadata": {},
   "outputs": [],
   "source": [
    "bucket = 'yara-sh-dads-scd-stage'\n",
    "\n",
    "\n",
    "def generate_all_keys(src, prefix=''):\n",
    "    '''\n",
    "    Generates and returns list of all keys in src bucket.\n",
    "    '''\n",
    "    s3 = s3_client()\n",
    "    s3_paginator = s3.get_paginator('list_objects_v2')\n",
    "    parameters = {'Bucket': src,\n",
    "                  'Prefix': prefix}\n",
    "    s3_object_keys = []\n",
    "\n",
    "    for page in s3_paginator.paginate(**parameters):\n",
    "        for content in page.get('Contents', ()):\n",
    "            key = content['Key']\n",
    "            if not key[-1] == '/':\n",
    "                s3_object_keys += [key]\n",
    "\n",
    "    return s3_object_keys\n",
    "\n",
    "# keys = generate_all_keys(bucket)"
   ]
  },
  {
   "cell_type": "code",
   "execution_count": null,
   "metadata": {},
   "outputs": [],
   "source": [
    "start_time = time.time()\n",
    "\n",
    "\n",
    "def get_size(src, prefix=''):\n",
    "    '''\n",
    "    Generates and returns size of bucket or folder.\n",
    "    Input parameters are source bucket (src) and prefix, if any.\n",
    "    '''\n",
    "    s3 = s3_client()\n",
    "    keys = generate_all_keys(src, prefix)\n",
    "    total_size = 0\n",
    "\n",
    "    for key in keys:\n",
    "        key_size = float(s3.head_object(Bucket=bucket, Key=key)\n",
    "                         ['ResponseMetadata']['HTTPHeaders']['content-length'])\n",
    "        total_size += key_size\n",
    "\n",
    "    size_gb = round(total_size / (1024*1024*1024),2)\n",
    "    if prefix == '':\n",
    "        print(f'size of {src} bucket: {size_gb} GB')\n",
    "    else:\n",
    "        folder_name = prefix.strip('/')\n",
    "        print(f'size of {folder_name} folder: {size_gb} GB')\n",
    "\n",
    "    return total_size\n",
    "\n",
    "\n",
    "folders = ['clean_sample/', 'soil_health_cards/', 'state_soil_tests/']\n",
    "sizes = [get_size(bucket, folder) for folder in folders]\n",
    "print(sizes)\n",
    "\n",
    "print(\"took\", time.time() - start_time, \"to run\")"
   ]
  },
  {
   "cell_type": "markdown",
   "metadata": {},
   "source": [
    "### Generate and Upload small sample (using Bihar)"
   ]
  },
  {
   "cell_type": "code",
   "execution_count": null,
   "metadata": {},
   "outputs": [],
   "source": [
    "bucket = 'yara-sh-dads-scd-stage'\n",
    "key = 'state_soil_tests/Bihar.csv'\n",
    "s3 = s3_client()\n",
    "obj = s3.get_object(Bucket=bucket, Key=key)"
   ]
  },
  {
   "cell_type": "code",
   "execution_count": null,
   "metadata": {},
   "outputs": [],
   "source": [
    "df = pd.read_csv(io.BytesIO(obj['Body'].read()), encoding='utf8',sep = '\\t')\n",
    "df.head(5)"
   ]
  },
  {
   "cell_type": "code",
   "execution_count": null,
   "metadata": {},
   "outputs": [],
   "source": [
    "sample = df.head(100)\n",
    "sample.to_csv('testsample_shc.csv', index=False, sep='\\t')"
   ]
  },
  {
   "cell_type": "code",
   "execution_count": null,
   "metadata": {},
   "outputs": [],
   "source": [
    "sample_file = 'testsample_shc.csv'\n",
    "sample_key = f'state_soil_tests/{sample_file}'\n",
    "# local_file = os.path.abspath(file_name)\n",
    "\n",
    "try:\n",
    "    s3.upload_file(sample_file, bucket, sample_key)\n",
    "    print(\"Upload Successful\")\n",
    "except FileNotFoundError:\n",
    "    print(\"The file was not found\")"
   ]
  },
  {
   "cell_type": "markdown",
   "metadata": {},
   "source": [
    "### Download sample from s3"
   ]
  },
  {
   "cell_type": "code",
   "execution_count": null,
   "metadata": {},
   "outputs": [],
   "source": [
    "try:\n",
    "    s3.download_file(bucket, sample_key, sample_file)\n",
    "    print(\"Download Successful\")\n",
    "except Exception as e:\n",
    "    print(e)"
   ]
  }
 ],
 "metadata": {
  "kernelspec": {
   "display_name": "Python [conda env:migration]",
   "language": "python",
   "name": "conda-env-migration-py"
  },
  "language_info": {
   "codemirror_mode": {
    "name": "ipython",
    "version": 3
   },
   "file_extension": ".py",
   "mimetype": "text/x-python",
   "name": "python",
   "nbconvert_exporter": "python",
   "pygments_lexer": "ipython3",
   "version": "3.8.10"
  }
 },
 "nbformat": 4,
 "nbformat_minor": 4
}
