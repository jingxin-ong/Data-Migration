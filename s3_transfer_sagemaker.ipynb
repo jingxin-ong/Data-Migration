{
 "cells": [
  {
   "cell_type": "code",
   "execution_count": 5,
   "id": "ad4e4d5b",
   "metadata": {},
   "outputs": [],
   "source": [
    "import os\n",
    "import boto3\n",
    "import botocore\n",
    "import logging\n",
    "from sagemaker import get_execution_role\n",
    "from concurrent import futures"
   ]
  },
  {
   "cell_type": "code",
   "execution_count": 12,
   "id": "8797bf5d",
   "metadata": {},
   "outputs": [
    {
     "name": "stdout",
     "output_type": "stream",
     "text": [
      "arn:aws:iam::463541169828:role/sagemaker-role\n"
     ]
    }
   ],
   "source": [
    "role = get_execution_role()\n",
    "print(role)\n",
    "\n",
    "s3b = boto3.client('s3', region_name = 'ap-southeast-1',\n",
    "                   config = botocore.client.Config(max_pool_connections = 50))"
   ]
  },
  {
   "cell_type": "code",
   "execution_count": 16,
   "id": "d1adc30c",
   "metadata": {},
   "outputs": [],
   "source": [
    "class Migration:\n",
    "    for handler in logging.root.handlers[:]:\n",
    "        logging.root.removeHandler(handler)\n",
    "    logging.basicConfig(filename = 's3_transfer.log', level = logging.INFO)\n",
    "    \n",
    "    def __init__(self, src, dest, client):\n",
    "        self.src = src\n",
    "        self.dest = dest\n",
    "        self.client = client\n",
    "        \n",
    "    def key_exists(self, key):\n",
    "        try: \n",
    "            response = self.client.list_objects_v2(Bucket = self.dest, Prefix = key)\n",
    "            for obj in response['Contents']:\n",
    "                if key == obj['Key']:\n",
    "                    return True\n",
    "        except KeyError:\n",
    "            return False\n",
    "        \n",
    "    def download(self, key):\n",
    "        '''Downloads file from src bucket.'''\n",
    "        try:\n",
    "            logging.info(\"%s is being downloaded\", key)\n",
    "            local_file = os.path.abspath(key)\n",
    "            current_dir = os.path.split(local_file)[0]\n",
    "            if not os.path.exists(current_dir):\n",
    "                os.makedirs(current_dir)\n",
    "            self.client.download_file(self.src, key, local_file)\n",
    "            logging.info(\"%s downloaded successfully\", key)\n",
    "        except Exception as ex:\n",
    "            logging.exception(ex)\n",
    "    \n",
    "    def upload(self, key):\n",
    "        '''Uploads file to dest bucket.'''\n",
    "        try: \n",
    "            logging.info(\"%s is being uploaded\", key)\n",
    "            local_file = os.path.abspath(key)\n",
    "            if self.key_exists(key):\n",
    "                logging.info(\"%s already exists\", key)\n",
    "                key_copy = key.split('.')[0] + '_copy.' + key.split('.')[1]\n",
    "                self.client.upload_file(local_file, self.dest, key_copy)\n",
    "                logging.info(\"%s uploaded successfully\", key_copy)\n",
    "            else: \n",
    "                self.client.upload_file(local_file, self.dest, key)\n",
    "                logging.info(\"%s uploaded successfully\", key)\n",
    "        except Exception as ex:\n",
    "            logging.exception(ex)\n",
    "        \n",
    "    def transfer(self, keys):\n",
    "        '''Copies file from src bucket to dest bucket.'''\n",
    "        with futures.ThreadPoolExecutor(max_workers = 5) as executor:\n",
    "            logging.info(\"Transferring...\")\n",
    "            \n",
    "            future_to_key_download = {executor.submit(self.download, key): key for key in keys}\n",
    "            \n",
    "            for future in futures.as_completed(future_to_key_download):\n",
    "                key = future_to_key_download[future]\n",
    "                self.upload(key)\n",
    "\n",
    "        logging.info('Transfer completed')"
   ]
  },
  {
   "cell_type": "code",
   "execution_count": null,
   "id": "429999ae",
   "metadata": {},
   "outputs": [],
   "source": [
    "src = \"yara-sh-dads-scd\" \n",
    "dest = \"yara-sh-dads-scd-stage\"\n",
    "test_migrate = Migration(src, dest, s3b)\n",
    "test_migrate.transfer(['state_soil_tests/Andaman_and_Nicobar_Islands.csv',\n",
    "                        'state_soil_tests/Andhra_Pradesh.csv',\n",
    "                        'state_soil_tests/Arunachal_Pradesh.csv',\n",
    "                        'state_soil_tests/Assam.csv',\n",
    "                        'state_soil_tests/Bihar.csv'])"
   ]
  }
 ],
 "metadata": {
  "kernelspec": {
   "display_name": "conda_python3",
   "language": "python",
   "name": "conda_python3"
  },
  "language_info": {
   "codemirror_mode": {
    "name": "ipython",
    "version": 3
   },
   "file_extension": ".py",
   "mimetype": "text/x-python",
   "name": "python",
   "nbconvert_exporter": "python",
   "pygments_lexer": "ipython3",
   "version": "3.6.13"
  }
 },
 "nbformat": 4,
 "nbformat_minor": 5
}